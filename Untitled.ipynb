{
 "cells": [
  {
   "cell_type": "markdown",
   "id": "5f483c58",
   "metadata": {},
   "source": [
    "# Imports"
   ]
  },
  {
   "cell_type": "code",
   "execution_count": 21,
   "id": "c97ea3d0",
   "metadata": {},
   "outputs": [],
   "source": [
    "import pandas as pd\n",
    "from sklearn.tree import DecisionTreeClassifier\n",
    "from sklearn.model_selection import train_test_split\n",
    "import matplotlib.pyplot as plt\n",
    "from sklearn.metrics import confusion_matrix, accuracy_score, precision_score, recall_score, f1_score\n",
    "import numpy as np\n",
    "from sklearn.model_selection import learning_curve"
   ]
  },
  {
   "cell_type": "markdown",
   "id": "c393cf51",
   "metadata": {},
   "source": [
    "# Load Data"
   ]
  },
  {
   "cell_type": "code",
   "execution_count": 24,
   "id": "4f2d63b3",
   "metadata": {},
   "outputs": [
    {
     "data": {
      "text/html": [
       "<div>\n",
       "<style scoped>\n",
       "    .dataframe tbody tr th:only-of-type {\n",
       "        vertical-align: middle;\n",
       "    }\n",
       "\n",
       "    .dataframe tbody tr th {\n",
       "        vertical-align: top;\n",
       "    }\n",
       "\n",
       "    .dataframe thead th {\n",
       "        text-align: right;\n",
       "    }\n",
       "</style>\n",
       "<table border=\"1\" class=\"dataframe\">\n",
       "  <thead>\n",
       "    <tr style=\"text-align: right;\">\n",
       "      <th></th>\n",
       "      <th>date</th>\n",
       "      <th>precipitation</th>\n",
       "      <th>temp_max</th>\n",
       "      <th>temp_min</th>\n",
       "      <th>wind</th>\n",
       "      <th>weather</th>\n",
       "    </tr>\n",
       "  </thead>\n",
       "  <tbody>\n",
       "    <tr>\n",
       "      <th>0</th>\n",
       "      <td>2012-01-01</td>\n",
       "      <td>0.0</td>\n",
       "      <td>12.8</td>\n",
       "      <td>5.0</td>\n",
       "      <td>4.7</td>\n",
       "      <td>drizzle</td>\n",
       "    </tr>\n",
       "    <tr>\n",
       "      <th>1</th>\n",
       "      <td>2012-01-02</td>\n",
       "      <td>10.9</td>\n",
       "      <td>10.6</td>\n",
       "      <td>2.8</td>\n",
       "      <td>4.5</td>\n",
       "      <td>rain</td>\n",
       "    </tr>\n",
       "    <tr>\n",
       "      <th>2</th>\n",
       "      <td>2012-01-03</td>\n",
       "      <td>0.8</td>\n",
       "      <td>11.7</td>\n",
       "      <td>7.2</td>\n",
       "      <td>2.3</td>\n",
       "      <td>rain</td>\n",
       "    </tr>\n",
       "    <tr>\n",
       "      <th>3</th>\n",
       "      <td>2012-01-04</td>\n",
       "      <td>20.3</td>\n",
       "      <td>12.2</td>\n",
       "      <td>5.6</td>\n",
       "      <td>4.7</td>\n",
       "      <td>rain</td>\n",
       "    </tr>\n",
       "    <tr>\n",
       "      <th>4</th>\n",
       "      <td>2012-01-05</td>\n",
       "      <td>1.3</td>\n",
       "      <td>8.9</td>\n",
       "      <td>2.8</td>\n",
       "      <td>6.1</td>\n",
       "      <td>rain</td>\n",
       "    </tr>\n",
       "    <tr>\n",
       "      <th>5</th>\n",
       "      <td>2012-01-06</td>\n",
       "      <td>2.5</td>\n",
       "      <td>4.4</td>\n",
       "      <td>2.2</td>\n",
       "      <td>2.2</td>\n",
       "      <td>rain</td>\n",
       "    </tr>\n",
       "    <tr>\n",
       "      <th>6</th>\n",
       "      <td>2012-01-07</td>\n",
       "      <td>0.0</td>\n",
       "      <td>7.2</td>\n",
       "      <td>2.8</td>\n",
       "      <td>2.3</td>\n",
       "      <td>rain</td>\n",
       "    </tr>\n",
       "    <tr>\n",
       "      <th>7</th>\n",
       "      <td>2012-01-08</td>\n",
       "      <td>0.0</td>\n",
       "      <td>10.0</td>\n",
       "      <td>2.8</td>\n",
       "      <td>2.0</td>\n",
       "      <td>sun</td>\n",
       "    </tr>\n",
       "    <tr>\n",
       "      <th>8</th>\n",
       "      <td>2012-01-09</td>\n",
       "      <td>4.3</td>\n",
       "      <td>9.4</td>\n",
       "      <td>5.0</td>\n",
       "      <td>3.4</td>\n",
       "      <td>rain</td>\n",
       "    </tr>\n",
       "    <tr>\n",
       "      <th>9</th>\n",
       "      <td>2012-01-10</td>\n",
       "      <td>1.0</td>\n",
       "      <td>6.1</td>\n",
       "      <td>0.6</td>\n",
       "      <td>3.4</td>\n",
       "      <td>rain</td>\n",
       "    </tr>\n",
       "    <tr>\n",
       "      <th>10</th>\n",
       "      <td>2012-01-11</td>\n",
       "      <td>0.0</td>\n",
       "      <td>6.1</td>\n",
       "      <td>-1.1</td>\n",
       "      <td>5.1</td>\n",
       "      <td>sun</td>\n",
       "    </tr>\n",
       "    <tr>\n",
       "      <th>11</th>\n",
       "      <td>2012-01-12</td>\n",
       "      <td>0.0</td>\n",
       "      <td>6.1</td>\n",
       "      <td>-1.7</td>\n",
       "      <td>1.9</td>\n",
       "      <td>sun</td>\n",
       "    </tr>\n",
       "    <tr>\n",
       "      <th>12</th>\n",
       "      <td>2012-01-13</td>\n",
       "      <td>0.0</td>\n",
       "      <td>5.0</td>\n",
       "      <td>-2.8</td>\n",
       "      <td>1.3</td>\n",
       "      <td>sun</td>\n",
       "    </tr>\n",
       "    <tr>\n",
       "      <th>13</th>\n",
       "      <td>2012-01-14</td>\n",
       "      <td>4.1</td>\n",
       "      <td>4.4</td>\n",
       "      <td>0.6</td>\n",
       "      <td>5.3</td>\n",
       "      <td>snow</td>\n",
       "    </tr>\n",
       "    <tr>\n",
       "      <th>14</th>\n",
       "      <td>2012-01-15</td>\n",
       "      <td>5.3</td>\n",
       "      <td>1.1</td>\n",
       "      <td>-3.3</td>\n",
       "      <td>3.2</td>\n",
       "      <td>snow</td>\n",
       "    </tr>\n",
       "    <tr>\n",
       "      <th>15</th>\n",
       "      <td>2012-01-16</td>\n",
       "      <td>2.5</td>\n",
       "      <td>1.7</td>\n",
       "      <td>-2.8</td>\n",
       "      <td>5.0</td>\n",
       "      <td>snow</td>\n",
       "    </tr>\n",
       "    <tr>\n",
       "      <th>16</th>\n",
       "      <td>2012-01-17</td>\n",
       "      <td>8.1</td>\n",
       "      <td>3.3</td>\n",
       "      <td>0.0</td>\n",
       "      <td>5.6</td>\n",
       "      <td>snow</td>\n",
       "    </tr>\n",
       "    <tr>\n",
       "      <th>17</th>\n",
       "      <td>2012-01-18</td>\n",
       "      <td>19.8</td>\n",
       "      <td>0.0</td>\n",
       "      <td>-2.8</td>\n",
       "      <td>5.0</td>\n",
       "      <td>snow</td>\n",
       "    </tr>\n",
       "    <tr>\n",
       "      <th>18</th>\n",
       "      <td>2012-01-19</td>\n",
       "      <td>15.2</td>\n",
       "      <td>-1.1</td>\n",
       "      <td>-2.8</td>\n",
       "      <td>1.6</td>\n",
       "      <td>snow</td>\n",
       "    </tr>\n",
       "    <tr>\n",
       "      <th>19</th>\n",
       "      <td>2012-01-20</td>\n",
       "      <td>13.5</td>\n",
       "      <td>7.2</td>\n",
       "      <td>-1.1</td>\n",
       "      <td>2.3</td>\n",
       "      <td>snow</td>\n",
       "    </tr>\n",
       "  </tbody>\n",
       "</table>\n",
       "</div>"
      ],
      "text/plain": [
       "          date  precipitation  temp_max  temp_min  wind  weather\n",
       "0   2012-01-01            0.0      12.8       5.0   4.7  drizzle\n",
       "1   2012-01-02           10.9      10.6       2.8   4.5     rain\n",
       "2   2012-01-03            0.8      11.7       7.2   2.3     rain\n",
       "3   2012-01-04           20.3      12.2       5.6   4.7     rain\n",
       "4   2012-01-05            1.3       8.9       2.8   6.1     rain\n",
       "5   2012-01-06            2.5       4.4       2.2   2.2     rain\n",
       "6   2012-01-07            0.0       7.2       2.8   2.3     rain\n",
       "7   2012-01-08            0.0      10.0       2.8   2.0      sun\n",
       "8   2012-01-09            4.3       9.4       5.0   3.4     rain\n",
       "9   2012-01-10            1.0       6.1       0.6   3.4     rain\n",
       "10  2012-01-11            0.0       6.1      -1.1   5.1      sun\n",
       "11  2012-01-12            0.0       6.1      -1.7   1.9      sun\n",
       "12  2012-01-13            0.0       5.0      -2.8   1.3      sun\n",
       "13  2012-01-14            4.1       4.4       0.6   5.3     snow\n",
       "14  2012-01-15            5.3       1.1      -3.3   3.2     snow\n",
       "15  2012-01-16            2.5       1.7      -2.8   5.0     snow\n",
       "16  2012-01-17            8.1       3.3       0.0   5.6     snow\n",
       "17  2012-01-18           19.8       0.0      -2.8   5.0     snow\n",
       "18  2012-01-19           15.2      -1.1      -2.8   1.6     snow\n",
       "19  2012-01-20           13.5       7.2      -1.1   2.3     snow"
      ]
     },
     "execution_count": 24,
     "metadata": {},
     "output_type": "execute_result"
    }
   ],
   "source": [
    "data = pd.read_csv(\"seattle-weather.csv\")\n",
    "data.head(20)"
   ]
  },
  {
   "cell_type": "raw",
   "id": "bf80f942",
   "metadata": {},
   "source": [
    "# Count number of example in each class"
   ]
  },
  {
   "cell_type": "code",
   "execution_count": 25,
   "id": "24d8953c",
   "metadata": {},
   "outputs": [
    {
     "name": "stdout",
     "output_type": "stream",
     "text": [
      "Number of example in Sun class is =  640\n",
      "Number of example in Drizzle class is =  53\n",
      "Number of example in Snow class is =  26\n",
      "Number of example in Rain class is =  641\n",
      "Number of example in Fog class is =  101\n"
     ]
    }
   ],
   "source": [
    "a =[]\n",
    "b= []\n",
    "c= []\n",
    "d= []\n",
    "e= []\n",
    "new = data.weather\n",
    "for i in new:\n",
    "    if i == \"sun\":\n",
    "        a.append(i)\n",
    "    elif i == \"drizzle\":\n",
    "        b.append(i)\n",
    "    elif i == \"snow\":\n",
    "        c.append(i)\n",
    "    elif i== \"rain\" :\n",
    "        d.append(i)\n",
    "    elif i== \"fog\" :\n",
    "        e.append(i)\n",
    "        \n",
    "print(\"Number of example in Sun class is = \", len(a))\n",
    "print(\"Number of example in Drizzle class is = \", len(b))\n",
    "print(\"Number of example in Snow class is = \", len(c))\n",
    "print(\"Number of example in Rain class is = \", len(d))\n",
    "print(\"Number of example in Fog class is = \", len(e))"
   ]
  },
  {
   "cell_type": "raw",
   "id": "ecee9f6f",
   "metadata": {},
   "source": [
    "remove the classes which have low number of examples"
   ]
  },
  {
   "cell_type": "code",
   "execution_count": 26,
   "id": "9a9ab21f",
   "metadata": {},
   "outputs": [],
   "source": [
    "for i in data.weather:\n",
    "    if i == \"drizzle\":\n",
    "    \tdata.drop(data[data['weather'] == \"drizzle\"].index, axis=0, inplace=True)\n",
    "\n",
    "for i in data.weather:\n",
    "    if i == \"snow\":\n",
    "    \tdata.drop(data[data['weather'] == \"snow\"].index, axis=0, inplace=True)\n",
    "\n",
    "for i in data.weather:\n",
    "    if i == \"fog\":\n",
    "    \tdata.drop(data[data['weather'] == \"fog\"].index, axis=0, inplace=True)"
   ]
  },
  {
   "cell_type": "code",
   "execution_count": 27,
   "id": "1af72aff",
   "metadata": {},
   "outputs": [
    {
     "name": "stdout",
     "output_type": "stream",
     "text": [
      "Number of example in Sun class is =  640\n",
      "Number of example in Drizzle class is =  0\n",
      "Number of example in Snow class is =  0\n",
      "Number of example in Rain class is =  641\n",
      "Number of example in Fog class is =  0\n"
     ]
    }
   ],
   "source": [
    "a1 =[]\n",
    "b1= []\n",
    "c1= []\n",
    "d1= []\n",
    "e1= []\n",
    "new = data.weather\n",
    "for i in new:\n",
    "    if i == \"sun\":\n",
    "        a1.append(i)\n",
    "    elif i == \"drizzle\":\n",
    "        b1.append(i)\n",
    "    elif i == \"snow\":\n",
    "        c1.append(i)\n",
    "    elif i== \"rain\" :\n",
    "        d1.append(i)\n",
    "    elif i== \"fog\" :\n",
    "        e1.append(i)\n",
    "        \n",
    "print(\"Number of example in Sun class is = \", len(a1))\n",
    "print(\"Number of example in Drizzle class is = \", len(b1))\n",
    "print(\"Number of example in Snow class is = \", len(c1))\n",
    "print(\"Number of example in Rain class is = \", len(d1))\n",
    "print(\"Number of example in Fog class is = \", len(e1))"
   ]
  },
  {
   "cell_type": "code",
   "execution_count": 28,
   "id": "37502170",
   "metadata": {},
   "outputs": [],
   "source": [
    "data.drop('date', axis=1, inplace=True)"
   ]
  },
  {
   "cell_type": "code",
   "execution_count": 29,
   "id": "80719512",
   "metadata": {},
   "outputs": [
    {
     "name": "stdout",
     "output_type": "stream",
     "text": [
      "<class 'pandas.core.frame.DataFrame'>\n",
      "Int64Index: 1281 entries, 1 to 1460\n",
      "Data columns (total 5 columns):\n",
      " #   Column         Non-Null Count  Dtype  \n",
      "---  ------         --------------  -----  \n",
      " 0   precipitation  1281 non-null   float64\n",
      " 1   temp_max       1281 non-null   float64\n",
      " 2   temp_min       1281 non-null   float64\n",
      " 3   wind           1281 non-null   float64\n",
      " 4   weather        1281 non-null   object \n",
      "dtypes: float64(4), object(1)\n",
      "memory usage: 60.0+ KB\n"
     ]
    }
   ],
   "source": [
    "data.info()"
   ]
  },
  {
   "cell_type": "code",
   "execution_count": 30,
   "id": "952eb779",
   "metadata": {},
   "outputs": [
    {
     "data": {
      "text/html": [
       "<div>\n",
       "<style scoped>\n",
       "    .dataframe tbody tr th:only-of-type {\n",
       "        vertical-align: middle;\n",
       "    }\n",
       "\n",
       "    .dataframe tbody tr th {\n",
       "        vertical-align: top;\n",
       "    }\n",
       "\n",
       "    .dataframe thead th {\n",
       "        text-align: right;\n",
       "    }\n",
       "</style>\n",
       "<table border=\"1\" class=\"dataframe\">\n",
       "  <thead>\n",
       "    <tr style=\"text-align: right;\">\n",
       "      <th></th>\n",
       "      <th>precipitation</th>\n",
       "      <th>temp_max</th>\n",
       "      <th>temp_min</th>\n",
       "      <th>wind</th>\n",
       "      <th>weather</th>\n",
       "    </tr>\n",
       "  </thead>\n",
       "  <tbody>\n",
       "    <tr>\n",
       "      <th>1</th>\n",
       "      <td>10.9</td>\n",
       "      <td>10.6</td>\n",
       "      <td>2.8</td>\n",
       "      <td>4.5</td>\n",
       "      <td>rain</td>\n",
       "    </tr>\n",
       "    <tr>\n",
       "      <th>2</th>\n",
       "      <td>0.8</td>\n",
       "      <td>11.7</td>\n",
       "      <td>7.2</td>\n",
       "      <td>2.3</td>\n",
       "      <td>rain</td>\n",
       "    </tr>\n",
       "    <tr>\n",
       "      <th>3</th>\n",
       "      <td>20.3</td>\n",
       "      <td>12.2</td>\n",
       "      <td>5.6</td>\n",
       "      <td>4.7</td>\n",
       "      <td>rain</td>\n",
       "    </tr>\n",
       "    <tr>\n",
       "      <th>4</th>\n",
       "      <td>1.3</td>\n",
       "      <td>8.9</td>\n",
       "      <td>2.8</td>\n",
       "      <td>6.1</td>\n",
       "      <td>rain</td>\n",
       "    </tr>\n",
       "    <tr>\n",
       "      <th>5</th>\n",
       "      <td>2.5</td>\n",
       "      <td>4.4</td>\n",
       "      <td>2.2</td>\n",
       "      <td>2.2</td>\n",
       "      <td>rain</td>\n",
       "    </tr>\n",
       "    <tr>\n",
       "      <th>6</th>\n",
       "      <td>0.0</td>\n",
       "      <td>7.2</td>\n",
       "      <td>2.8</td>\n",
       "      <td>2.3</td>\n",
       "      <td>rain</td>\n",
       "    </tr>\n",
       "    <tr>\n",
       "      <th>7</th>\n",
       "      <td>0.0</td>\n",
       "      <td>10.0</td>\n",
       "      <td>2.8</td>\n",
       "      <td>2.0</td>\n",
       "      <td>sun</td>\n",
       "    </tr>\n",
       "    <tr>\n",
       "      <th>8</th>\n",
       "      <td>4.3</td>\n",
       "      <td>9.4</td>\n",
       "      <td>5.0</td>\n",
       "      <td>3.4</td>\n",
       "      <td>rain</td>\n",
       "    </tr>\n",
       "    <tr>\n",
       "      <th>9</th>\n",
       "      <td>1.0</td>\n",
       "      <td>6.1</td>\n",
       "      <td>0.6</td>\n",
       "      <td>3.4</td>\n",
       "      <td>rain</td>\n",
       "    </tr>\n",
       "    <tr>\n",
       "      <th>10</th>\n",
       "      <td>0.0</td>\n",
       "      <td>6.1</td>\n",
       "      <td>-1.1</td>\n",
       "      <td>5.1</td>\n",
       "      <td>sun</td>\n",
       "    </tr>\n",
       "    <tr>\n",
       "      <th>11</th>\n",
       "      <td>0.0</td>\n",
       "      <td>6.1</td>\n",
       "      <td>-1.7</td>\n",
       "      <td>1.9</td>\n",
       "      <td>sun</td>\n",
       "    </tr>\n",
       "    <tr>\n",
       "      <th>12</th>\n",
       "      <td>0.0</td>\n",
       "      <td>5.0</td>\n",
       "      <td>-2.8</td>\n",
       "      <td>1.3</td>\n",
       "      <td>sun</td>\n",
       "    </tr>\n",
       "    <tr>\n",
       "      <th>20</th>\n",
       "      <td>3.0</td>\n",
       "      <td>8.3</td>\n",
       "      <td>3.3</td>\n",
       "      <td>8.2</td>\n",
       "      <td>rain</td>\n",
       "    </tr>\n",
       "    <tr>\n",
       "      <th>21</th>\n",
       "      <td>6.1</td>\n",
       "      <td>6.7</td>\n",
       "      <td>2.2</td>\n",
       "      <td>4.8</td>\n",
       "      <td>rain</td>\n",
       "    </tr>\n",
       "    <tr>\n",
       "      <th>22</th>\n",
       "      <td>0.0</td>\n",
       "      <td>8.3</td>\n",
       "      <td>1.1</td>\n",
       "      <td>3.6</td>\n",
       "      <td>rain</td>\n",
       "    </tr>\n",
       "    <tr>\n",
       "      <th>23</th>\n",
       "      <td>8.6</td>\n",
       "      <td>10.0</td>\n",
       "      <td>2.2</td>\n",
       "      <td>5.1</td>\n",
       "      <td>rain</td>\n",
       "    </tr>\n",
       "    <tr>\n",
       "      <th>24</th>\n",
       "      <td>8.1</td>\n",
       "      <td>8.9</td>\n",
       "      <td>4.4</td>\n",
       "      <td>5.4</td>\n",
       "      <td>rain</td>\n",
       "    </tr>\n",
       "    <tr>\n",
       "      <th>25</th>\n",
       "      <td>4.8</td>\n",
       "      <td>8.9</td>\n",
       "      <td>1.1</td>\n",
       "      <td>4.8</td>\n",
       "      <td>rain</td>\n",
       "    </tr>\n",
       "    <tr>\n",
       "      <th>27</th>\n",
       "      <td>0.0</td>\n",
       "      <td>6.7</td>\n",
       "      <td>0.6</td>\n",
       "      <td>2.2</td>\n",
       "      <td>rain</td>\n",
       "    </tr>\n",
       "    <tr>\n",
       "      <th>28</th>\n",
       "      <td>27.7</td>\n",
       "      <td>9.4</td>\n",
       "      <td>3.9</td>\n",
       "      <td>4.5</td>\n",
       "      <td>rain</td>\n",
       "    </tr>\n",
       "  </tbody>\n",
       "</table>\n",
       "</div>"
      ],
      "text/plain": [
       "    precipitation  temp_max  temp_min  wind weather\n",
       "1            10.9      10.6       2.8   4.5    rain\n",
       "2             0.8      11.7       7.2   2.3    rain\n",
       "3            20.3      12.2       5.6   4.7    rain\n",
       "4             1.3       8.9       2.8   6.1    rain\n",
       "5             2.5       4.4       2.2   2.2    rain\n",
       "6             0.0       7.2       2.8   2.3    rain\n",
       "7             0.0      10.0       2.8   2.0     sun\n",
       "8             4.3       9.4       5.0   3.4    rain\n",
       "9             1.0       6.1       0.6   3.4    rain\n",
       "10            0.0       6.1      -1.1   5.1     sun\n",
       "11            0.0       6.1      -1.7   1.9     sun\n",
       "12            0.0       5.0      -2.8   1.3     sun\n",
       "20            3.0       8.3       3.3   8.2    rain\n",
       "21            6.1       6.7       2.2   4.8    rain\n",
       "22            0.0       8.3       1.1   3.6    rain\n",
       "23            8.6      10.0       2.2   5.1    rain\n",
       "24            8.1       8.9       4.4   5.4    rain\n",
       "25            4.8       8.9       1.1   4.8    rain\n",
       "27            0.0       6.7       0.6   2.2    rain\n",
       "28           27.7       9.4       3.9   4.5    rain"
      ]
     },
     "execution_count": 30,
     "metadata": {},
     "output_type": "execute_result"
    }
   ],
   "source": [
    "data.head(20)"
   ]
  },
  {
   "cell_type": "markdown",
   "id": "ac8cf3de",
   "metadata": {},
   "source": [
    "# Visulazation"
   ]
  },
  {
   "cell_type": "code",
   "execution_count": 50,
   "id": "6fa974dc",
   "metadata": {},
   "outputs": [
    {
     "data": {
      "image/png": "[encoded data removed]",
      "text/plain": [
       "<Figure size 864x432 with 1 Axes>"
      ]
     },
     "metadata": {
      "needs_background": "light"
     },
     "output_type": "display_data"
    }
   ],
   "source": [
    "date_range = pd.date_range(start='2012-01-01', periods=1281, freq='D')\n",
    "precipitation = data.precipitation\n",
    "temp_max = data.temp_max\n",
    "temp_min = data.temp_min\n",
    "\n",
    "df = pd.DataFrame({'Date': date_range, 'Precipitation': precipitation, 'Temp_Max': temp_max, 'Temp_Min': temp_min})\n",
    "\n",
    "plt.figure(figsize=(12, 6))\n",
    "plt.plot(df['Date'], df['Precipitation'], label='Precipitation', marker='o')\n",
    "plt.plot(df['Date'], df['Temp_Max'], label='Temp_Max', marker='o')\n",
    "plt.plot(df['Date'], df['Temp_Min'], label='Temp_Min', marker='o')\n",
    "plt.xlabel('Date')\n",
    "plt.ylabel('Values')\n",
    "plt.title('Precipitation, Temp_Max, and Temp_Min Over Time')\n",
    "plt.legend()\n",
    "plt.grid(True)\n",
    "plt.xticks(rotation=45)\n",
    "plt.tight_layout()\n",
    "plt.show()\n"
   ]
  },
  {
   "cell_type": "code",
   "execution_count": 42,
   "id": "b3b4e24e",
   "metadata": {},
   "outputs": [
    {
     "data": {
      "image/png": "[encoded data removed]",
      "text/plain": [
       "<Figure size 576x432 with 1 Axes>"
      ]
     },
     "metadata": {
      "needs_background": "light"
     },
     "output_type": "display_data"
    }
   ],
   "source": [
    "# Sample wind speed data (replace with your own data)\n",
    "wind_speeds = data.wind\n",
    "\n",
    "# Create a histogram of wind speeds\n",
    "plt.figure(figsize=(8, 6))\n",
    "plt.hist(wind_speeds, bins=10, edgecolor='black', alpha=0.7)\n",
    "plt.xlabel('Wind Speed (m/s)')\n",
    "plt.ylabel('Frequency')\n",
    "plt.title('Wind Speed Histogram')\n",
    "plt.grid(True)\n",
    "plt.show()"
   ]
  },
  {
   "cell_type": "code",
   "execution_count": 32,
   "id": "63a4b27d",
   "metadata": {},
   "outputs": [
    {
     "name": "stdout",
     "output_type": "stream",
     "text": [
      "Input features are \n",
      " \n",
      " <bound method DataFrame.info of       precipitation  temp_max  temp_min  wind\n",
      "1              10.9      10.6       2.8   4.5\n",
      "2               0.8      11.7       7.2   2.3\n",
      "3              20.3      12.2       5.6   4.7\n",
      "4               1.3       8.9       2.8   6.1\n",
      "5               2.5       4.4       2.2   2.2\n",
      "...             ...       ...       ...   ...\n",
      "1455            0.0       4.4       0.0   2.5\n",
      "1456            8.6       4.4       1.7   2.9\n",
      "1457            1.5       5.0       1.7   1.3\n",
      "1459            0.0       5.6      -1.0   3.4\n",
      "1460            0.0       5.6      -2.1   3.5\n",
      "\n",
      "[1281 rows x 4 columns]>\n",
      "\n",
      "output is \n",
      " \n",
      " <bound method Series.info of 1       rain\n",
      "2       rain\n",
      "3       rain\n",
      "4       rain\n",
      "5       rain\n",
      "        ... \n",
      "1455     sun\n",
      "1456    rain\n",
      "1457    rain\n",
      "1459     sun\n",
      "1460     sun\n",
      "Name: weather, Length: 1281, dtype: object>\n"
     ]
    }
   ],
   "source": [
    "x = data.drop('weather', axis=1)\n",
    "y = data.weather\n",
    "print(\"Input features are \\n \\n\", x.info)\n",
    "print(\"\\noutput is \\n \\n\", y.info)"
   ]
  },
  {
   "cell_type": "markdown",
   "id": "ad7c6154",
   "metadata": {},
   "source": [
    "# Spliting and Training"
   ]
  },
  {
   "cell_type": "code",
   "execution_count": 10,
   "id": "9615db49",
   "metadata": {},
   "outputs": [],
   "source": [
    "X_train, X_test, Y_train, Y_test = train_test_split(x, y, test_size= 0.2, random_state=0)"
   ]
  },
  {
   "cell_type": "code",
   "execution_count": 11,
   "id": "5ead98bf",
   "metadata": {},
   "outputs": [],
   "source": [
    "model = DecisionTreeClassifier()"
   ]
  },
  {
   "cell_type": "code",
   "execution_count": 12,
   "id": "71ebc459",
   "metadata": {},
   "outputs": [
    {
     "data": {
      "text/html": [
       "<style>#sk-container-id-1 {color: black;background-color: white;}#sk-container-id-1 pre{padding: 0;}#sk-container-id-1 div.sk-toggleable {background-color: white;}#sk-container-id-1 label.sk-toggleable__label {cursor: pointer;display: block;width: 100%;margin-bottom: 0;padding: 0.3em;box-sizing: border-box;text-align: center;}#sk-container-id-1 label.sk-toggleable__label-arrow:before {content: \"▸\";float: left;margin-right: 0.25em;color: #696969;}#sk-container-id-1 label.sk-toggleable__label-arrow:hover:before {color: black;}#sk-container-id-1 div.sk-estimator:hover label.sk-toggleable__label-arrow:before {color: black;}#sk-container-id-1 div.sk-toggleable__content {max-height: 0;max-width: 0;overflow: hidden;text-align: left;background-color: #f0f8ff;}#sk-container-id-1 div.sk-toggleable__content pre {margin: 0.2em;color: black;border-radius: 0.25em;background-color: #f0f8ff;}#sk-container-id-1 input.sk-toggleable__control:checked~div.sk-toggleable__content {max-height: 200px;max-width: 100%;overflow: auto;}#sk-container-id-1 input.sk-toggleable__control:checked~label.sk-toggleable__label-arrow:before {content: \"▾\";}#sk-container-id-1 div.sk-estimator input.sk-toggleable__control:checked~label.sk-toggleable__label {background-color: #d4ebff;}#sk-container-id-1 div.sk-label input.sk-toggleable__control:checked~label.sk-toggleable__label {background-color: #d4ebff;}#sk-container-id-1 input.sk-hidden--visually {border: 0;clip: rect(1px 1px 1px 1px);clip: rect(1px, 1px, 1px, 1px);height: 1px;margin: -1px;overflow: hidden;padding: 0;position: absolute;width: 1px;}#sk-container-id-1 div.sk-estimator {font-family: monospace;background-color: #f0f8ff;border: 1px dotted black;border-radius: 0.25em;box-sizing: border-box;margin-bottom: 0.5em;}#sk-container-id-1 div.sk-estimator:hover {background-color: #d4ebff;}#sk-container-id-1 div.sk-parallel-item::after {content: \"\";width: 100%;border-bottom: 1px solid gray;flex-grow: 1;}#sk-container-id-1 div.sk-label:hover label.sk-toggleable__label {background-color: #d4ebff;}#sk-container-id-1 div.sk-serial::before {content: \"\";position: absolute;border-left: 1px solid gray;box-sizing: border-box;top: 0;bottom: 0;left: 50%;z-index: 0;}#sk-container-id-1 div.sk-serial {display: flex;flex-direction: column;align-items: center;background-color: white;padding-right: 0.2em;padding-left: 0.2em;position: relative;}#sk-container-id-1 div.sk-item {position: relative;z-index: 1;}#sk-container-id-1 div.sk-parallel {display: flex;align-items: stretch;justify-content: center;background-color: white;position: relative;}#sk-container-id-1 div.sk-item::before, #sk-container-id-1 div.sk-parallel-item::before {content: \"\";position: absolute;border-left: 1px solid gray;box-sizing: border-box;top: 0;bottom: 0;left: 50%;z-index: -1;}#sk-container-id-1 div.sk-parallel-item {display: flex;flex-direction: column;z-index: 1;position: relative;background-color: white;}#sk-container-id-1 div.sk-parallel-item:first-child::after {align-self: flex-end;width: 50%;}#sk-container-id-1 div.sk-parallel-item:last-child::after {align-self: flex-start;width: 50%;}#sk-container-id-1 div.sk-parallel-item:only-child::after {width: 0;}#sk-container-id-1 div.sk-dashed-wrapped {border: 1px dashed gray;margin: 0 0.4em 0.5em 0.4em;box-sizing: border-box;padding-bottom: 0.4em;background-color: white;}#sk-container-id-1 div.sk-label label {font-family: monospace;font-weight: bold;display: inline-block;line-height: 1.2em;}#sk-container-id-1 div.sk-label-container {text-align: center;}#sk-container-id-1 div.sk-container {/* jupyter's `normalize.less` sets `[hidden] { display: none; }` but bootstrap.min.css set `[hidden] { display: none !important; }` so we also need the `!important` here to be able to override the default hidden behavior on the sphinx rendered scikit-learn.org. See: https://github.com/scikit-learn/scikit-learn/issues/21755 */display: inline-block !important;position: relative;}#sk-container-id-1 div.sk-text-repr-fallback {display: none;}</style><div id=\"sk-container-id-1\" class=\"sk-top-container\"><div class=\"sk-text-repr-fallback\"><pre>DecisionTreeClassifier()</pre><b>In a Jupyter environment, please rerun this cell to show the HTML representation or trust the notebook. <br />On GitHub, the HTML representation is unable to render, please try loading this page with nbviewer.org.</b></div><div class=\"sk-container\" hidden><div class=\"sk-item\"><div class=\"sk-estimator sk-toggleable\"><input class=\"sk-toggleable__control sk-hidden--visually\" id=\"sk-estimator-id-1\" type=\"checkbox\" checked><label for=\"sk-estimator-id-1\" class=\"sk-toggleable__label sk-toggleable__label-arrow\">DecisionTreeClassifier</label><div class=\"sk-toggleable__content\"><pre>DecisionTreeClassifier()</pre></div></div></div></div></div>"
      ],
      "text/plain": [
       "DecisionTreeClassifier()"
      ]
     },
     "execution_count": 12,
     "metadata": {},
     "output_type": "execute_result"
    }
   ],
   "source": [
    "model.fit(X_train, Y_train)"
   ]
  },
  {
   "cell_type": "code",
   "execution_count": 15,
   "id": "a0008c3f",
   "metadata": {},
   "outputs": [],
   "source": [
    "pred = model.predict(X_test)\n",
    "accuracy = accuracy_score(Y_test, pred)"
   ]
  },
  {
   "cell_type": "code",
   "execution_count": 16,
   "id": "40160165",
   "metadata": {},
   "outputs": [
    {
     "data": {
      "text/plain": [
       "0.9416342412451362"
      ]
     },
     "execution_count": 16,
     "metadata": {},
     "output_type": "execute_result"
    }
   ],
   "source": [
    "accuracy"
   ]
  },
  {
   "cell_type": "markdown",
   "id": "cfe0fd93",
   "metadata": {},
   "source": [
    "# Performance of the model"
   ]
  },
  {
   "cell_type": "code",
   "execution_count": 19,
   "id": "ded7d7fe",
   "metadata": {},
   "outputs": [
    {
     "name": "stdout",
     "output_type": "stream",
     "text": [
      "True Positives (TP): 125\n",
      "True Negatives (TN): 117\n",
      "False Positives (FP): 8\n",
      "False Negatives (FN): 7\n",
      "Precision: 0.9416486333192088\n",
      "Recall (Sensitivity): 0.9416342412451362\n",
      "F1 Score: 0.9416271649994737\n",
      "Accuracy: 0.9416342412451362\n"
     ]
    }
   ],
   "source": [
    "conf_matrix = confusion_matrix(Y_test, pred)\n",
    "\n",
    "\n",
    "TP = conf_matrix[1, 1]\n",
    "TN = conf_matrix[0, 0]\n",
    "FP = conf_matrix[0, 1]\n",
    "FN = conf_matrix[1, 0]\n",
    "\n",
    "precision = precision_score(Y_test, pred, average='weighted')\n",
    "\n",
    "recall = recall_score(Y_test, pred, average='weighted')\n",
    "\n",
    "f1 = f1_score(Y_test, pred, average='weighted')\n",
    "\n",
    "accuracy = accuracy_score(Y_test, pred)\n",
    "\n",
    "print(\"True Positives (TP):\", TP)\n",
    "print(\"True Negatives (TN):\", TN)\n",
    "print(\"False Positives (FP):\", FP)\n",
    "print(\"False Negatives (FN):\", FN)\n",
    "print(\"Precision:\", precision)\n",
    "print(\"Recall (Sensitivity):\", recall)\n",
    "print(\"F1 Score:\", f1)\n",
    "print(\"Accuracy:\", accuracy)\n"
   ]
  },
  {
   "cell_type": "markdown",
   "id": "ac454775",
   "metadata": {},
   "source": [
    "# Learning Curve"
   ]
  },
  {
   "cell_type": "code",
   "execution_count": 33,
   "id": "aeefcfe4",
   "metadata": {},
   "outputs": [
    {
     "data": {
      "image/png": "[encoded data removed]",
      "text/plain": [
       "<Figure size 720x432 with 1 Axes>"
      ]
     },
     "metadata": {
      "needs_background": "light"
     },
     "output_type": "display_data"
    }
   ],
   "source": [
    "train_sizes, train_scores, val_scores = learning_curve(\n",
    "    model, x, y, train_sizes=np.linspace(0.1, 1.0, 10), cv=5, scoring='accuracy'\n",
    ")\n",
    "\n",
    "# Calculate mean and standard deviation of training and validation scores\n",
    "train_scores_mean = np.mean(train_scores, axis=1)\n",
    "train_scores_std = np.std(train_scores, axis=1)\n",
    "val_scores_mean = np.mean(val_scores, axis=1)\n",
    "val_scores_std = np.std(val_scores, axis=1)\n",
    "\n",
    "plt.figure(figsize=(10, 6))\n",
    "plt.title(\"Learning Curves\")\n",
    "plt.xlabel(\"Training Examples\")\n",
    "plt.ylabel(\"Score\")\n",
    "plt.grid()\n",
    "\n",
    "plt.fill_between(train_sizes, train_scores_mean - train_scores_std,\n",
    "                 train_scores_mean + train_scores_std, alpha=0.1, color=\"r\")\n",
    "plt.fill_between(train_sizes, val_scores_mean - val_scores_std,\n",
    "                 val_scores_mean + val_scores_std, alpha=0.1, color=\"g\")\n",
    "plt.plot(train_sizes, train_scores_mean, 'o-', color=\"r\", label=\"Training Score\")\n",
    "plt.plot(train_sizes, val_scores_mean, 'o-', color=\"g\", label=\"Cross-validation Score\")\n",
    "\n",
    "plt.legend(loc=\"best\")\n",
    "plt.show()\n"
   ]
  },
  {
   "cell_type": "code",
   "execution_count": null,
   "id": "69315998",
   "metadata": {},
   "outputs": [],
   "source": []
  },
  {
   "cell_type": "code",
   "execution_count": null,
   "id": "c412238a",
   "metadata": {},
   "outputs": [],
   "source": []
  }
 ],
 "metadata": {
  "kernelspec": {
   "display_name": "Python 3 (ipykernel)",
   "language": "python",
   "name": "python3"
  },
  "language_info": {
   "codemirror_mode": {
    "name": "ipython",
    "version": 3
   },
   "file_extension": ".py",
   "mimetype": "text/x-python",
   "name": "python",
   "nbconvert_exporter": "python",
   "pygments_lexer": "ipython3",
   "version": "3.10.2"
  }
 },
 "nbformat": 4,
 "nbformat_minor": 5
}
